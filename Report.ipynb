{
 "cells": [
  {
   "cell_type": "markdown",
   "metadata": {},
   "source": [
    "# Continuous Control\n",
    "\n",
    "---\n",
    "\n",
    "This Notebook implements the solution for the 2. project in the Unity ML-Agents environment for the second project of the [Deep Reinforcement Learning Nanodegree](https://www.udacity.com/course/deep-reinforcement-learning-nanodegree--nd893) program.\n",
    "\n",
    "### 1. Start the Environment\n",
    "\n",
    "We begin by importing the necessary packages.  If the code cell below returns an error, please revisit the project instructions to double-check that you have installed [Unity ML-Agents](https://github.com/Unity-Technologies/ml-agents/blob/master/docs/Installation.md) and [NumPy](http://www.numpy.org/)."
   ]
  },
  {
   "cell_type": "code",
   "execution_count": 1,
   "metadata": {},
   "outputs": [],
   "source": [
    "from unityagents import UnityEnvironment\n",
    "import numpy as np"
   ]
  },
  {
   "cell_type": "markdown",
   "metadata": {},
   "source": [
    "Next, we will start the environment!  **_Before running the code cell below_**, change the `file_name` parameter to match the location of the Unity environment that you downloaded.\n",
    "\n",
    "- **Mac**: `\"path/to/Reacher.app\"`\n",
    "- **Windows** (x86): `\"path/to/Reacher_Windows_x86/Reacher.exe\"`\n",
    "- **Windows** (x86_64): `\"path/to/Reacher_Windows_x86_64/Reacher.exe\"`\n",
    "- **Linux** (x86): `\"path/to/Reacher_Linux/Reacher.x86\"`\n",
    "- **Linux** (x86_64): `\"path/to/Reacher_Linux/Reacher.x86_64\"`\n",
    "- **Linux** (x86, headless): `\"path/to/Reacher_Linux_NoVis/Reacher.x86\"`\n",
    "- **Linux** (x86_64, headless): `\"path/to/Reacher_Linux_NoVis/Reacher.x86_64\"`\n",
    "\n",
    "For instance, if you are using a Mac, then you downloaded `Reacher.app`.  If this file is in the same folder as the notebook, then the line below should appear as follows:\n",
    "```\n",
    "env = UnityEnvironment(file_name=\"Reacher.app\")\n",
    "```"
   ]
  },
  {
   "cell_type": "code",
   "execution_count": 2,
   "metadata": {},
   "outputs": [
    {
     "name": "stderr",
     "output_type": "stream",
     "text": [
      "INFO:unityagents:\n",
      "'Academy' started successfully!\n",
      "Unity Academy name: Academy\n",
      "        Number of Brains: 1\n",
      "        Number of External Brains : 1\n",
      "        Lesson number : 0\n",
      "        Reset Parameters :\n",
      "\t\tgoal_speed -> 1.0\n",
      "\t\tgoal_size -> 5.0\n",
      "Unity brain name: ReacherBrain\n",
      "        Number of Visual Observations (per agent): 0\n",
      "        Vector Observation space type: continuous\n",
      "        Vector Observation space size (per agent): 33\n",
      "        Number of stacked Vector Observation: 1\n",
      "        Vector Action space type: continuous\n",
      "        Vector Action space size (per agent): 4\n",
      "        Vector Action descriptions: , , , \n"
     ]
    }
   ],
   "source": [
    "env = UnityEnvironment(file_name='Reacher_20_Windows_x86_64/Reacher.exe')"
   ]
  },
  {
   "cell_type": "markdown",
   "metadata": {},
   "source": [
    "Environments contain **_brains_** which are responsible for deciding the actions of their associated agents. Here we check for the first brain available, and set it as the default brain we will be controlling from Python."
   ]
  },
  {
   "cell_type": "code",
   "execution_count": 3,
   "metadata": {},
   "outputs": [],
   "source": [
    "# get the default brain\n",
    "brain_name = env.brain_names[0]\n",
    "brain = env.brains[brain_name]"
   ]
  },
  {
   "cell_type": "markdown",
   "metadata": {},
   "source": [
    "### 2. Examine the State and Action Spaces\n",
    "\n",
    "In this environment, a double-jointed arm can move to target locations. A reward of `+0.1` is provided for each step that the agent's hand is in the goal location. Thus, the goal of your agent is to maintain its position at the target location for as many time steps as possible.\n",
    "\n",
    "The observation space consists of `33` variables corresponding to position, rotation, velocity, and angular velocities of the arm.  Each action is a vector with four numbers, corresponding to torque applicable to two joints.  Every entry in the action vector must be a number between `-1` and `1`.\n",
    "\n",
    "Run the code cell below to print some information about the environment."
   ]
  },
  {
   "cell_type": "code",
   "execution_count": 4,
   "metadata": {},
   "outputs": [
    {
     "name": "stdout",
     "output_type": "stream",
     "text": [
      "Number of agents: 20\n",
      "Size of each action: 4\n",
      "There are 20 agents. Each observes a state with length: 33\n",
      "The state for the first agent looks like: [ 0.00000000e+00 -4.00000000e+00  0.00000000e+00  1.00000000e+00\n",
      " -0.00000000e+00 -0.00000000e+00 -4.37113883e-08  0.00000000e+00\n",
      "  0.00000000e+00  0.00000000e+00  0.00000000e+00  0.00000000e+00\n",
      "  0.00000000e+00  0.00000000e+00 -1.00000000e+01  0.00000000e+00\n",
      "  1.00000000e+00 -0.00000000e+00 -0.00000000e+00 -4.37113883e-08\n",
      "  0.00000000e+00  0.00000000e+00  0.00000000e+00  0.00000000e+00\n",
      "  0.00000000e+00  0.00000000e+00  5.75471878e+00 -1.00000000e+00\n",
      "  5.55726624e+00  0.00000000e+00  1.00000000e+00  0.00000000e+00\n",
      " -1.68164849e-01]\n"
     ]
    }
   ],
   "source": [
    "# reset the environment\n",
    "env_info = env.reset(train_mode=True)[brain_name]\n",
    "\n",
    "# number of agents\n",
    "num_agents = len(env_info.agents)\n",
    "print('Number of agents:', num_agents)\n",
    "\n",
    "# size of each action\n",
    "action_size = brain.vector_action_space_size\n",
    "print('Size of each action:', action_size)\n",
    "\n",
    "# examine the state space \n",
    "states = env_info.vector_observations\n",
    "state_size = states.shape[1]\n",
    "print('There are {} agents. Each observes a state with length: {}'.format(states.shape[0], state_size))\n",
    "print('The state for the first agent looks like:', states[0])"
   ]
  },
  {
   "cell_type": "markdown",
   "metadata": {},
   "source": [
    "### 3. Train the agent using DDPG\n",
    "\n",
    "Now it's your turn to train your own agent to solve the environment!  When training the environment, set `train_mode=True`, so that the line for resetting the environment looks like the following:\n",
    "```python\n",
    "env_info = env.reset(train_mode=True)[brain_name]\n",
    "```"
   ]
  },
  {
   "cell_type": "code",
   "execution_count": 5,
   "metadata": {},
   "outputs": [],
   "source": [
    "from collections import deque\n",
    "import torch\n",
    "import matplotlib.pyplot as plt\n",
    "%matplotlib inline\n",
    "\n"
   ]
  },
  {
   "cell_type": "code",
   "execution_count": 6,
   "metadata": {},
   "outputs": [],
   "source": [
    "def ddpg(agent, env_info, n_episodes=1000, max_t=1000, print_every=100, run=0):\n",
    "    scores_deque = deque(maxlen=print_every)\n",
    "    \n",
    "    score = []\n",
    "    solved = False\n",
    "    for i_episode in range(1, n_episodes+1):\n",
    "        #state = env.reset()\n",
    "        \n",
    "        scores = np.zeros(num_agents)\n",
    "        env_info = env.reset(train_mode=True)[brain_name] # reset the environment\n",
    "        state = env_info.vector_observations              # get the current state\n",
    "        agent.reset()\n",
    "        for t in range(max_t):\n",
    "            actions = agent.act(state)                    # select an action\n",
    "            env_info = env.step(actions)[brain_name]      # send the action to the environment\n",
    "            next_state = env_info.vector_observations     # get the next state\n",
    "            reward = env_info.rewards                     # get the reward\n",
    "            done = env_info.local_done                    # see if episode has finished\n",
    "            agent.step(state, actions, reward, next_state, done)\n",
    "            state = next_state\n",
    "            scores += reward\n",
    "            \n",
    "            \n",
    "            if np.any(done):\n",
    "                break \n",
    "        scores_deque.append(np.mean(scores))\n",
    "        score.append(np.mean(scores))\n",
    "        print('\\rEpisode {}\\tAverage Score: {:.2f}'.format(i_episode, np.mean(scores_deque)), end=\"\")\n",
    "        torch.save(agent.actor_local.state_dict(), 'checkpoint_actor_'+str(run)+'.pth')\n",
    "        torch.save(agent.critic_local.state_dict(), 'checkpoint_critic_'+str(run)+'.pth')\n",
    "        if i_episode % print_every == 0:\n",
    "            print('\\rEpisode {}\\tAverage Score: {:.2f}'.format(i_episode, np.mean(scores_deque)))\n",
    "        if (np.mean(scores_deque)>=30.0) & (not solved):\n",
    "            print('\\nEnvironment solved in {:d} episodes!\\tAverage Score: {:.2f}'.format(i_episode-100, np.mean(scores_deque)))\n",
    "            solved = True\n",
    "            \n",
    "    return score"
   ]
  },
  {
   "cell_type": "markdown",
   "metadata": {},
   "source": [
    "### 3.1 Learning Algorithm\n",
    "\n",
    "The learning algorithm used to solve this learning is the DDPG algorithm described in the paper [Continuous control with deep reinforcement learning](https://arxiv.org/abs/1509.02971)\n",
    "\n",
    "This is a modification of the DQN algorithm that is extended to work for continuous output space. \n",
    "The DQN network from the previous lesson took an input, and predicted an action. however this agent needs to learn the appropriate force to apply to each joint of the robot arm. The force is a continuous variable from 0-1.\n",
    "\n",
    "DDPG uses 2 networks, one to predict the action, and one to evaluate the action, and provide the contentious output.  \n",
    "\n",
    "**Hyperparameters are taken from the paper:**\n",
    " \n",
    "We used Adam (Kingma & Ba, 2014) for learning the neural network parameters with a learningrate of 10e−4 and 10e−3 for the actor and critic respectively.  For Q we included L2 weight decay of 1e−2 and used a discount factor of γ = 0.99.\n",
    "For the soft target updates we used τ = 0.001.\n",
    "We used an Ornstein-Uhlenbeck process (Uhlenbeck& Ornstein, 1930) with θ = 0.15 and σ = 0.2.\n",
    "We used a replay buffer size of 1e6  \n",
    "\n",
    "**Network:**  \n",
    "Actor(  \n",
    "  (fc1): Linear(in_features=33, out_features=400, bias=True)  \n",
    "  (fc2): Linear(in_features=400, out_features=300, bias=True)  \n",
    "  (fc3): Linear(in_features=300, out_features=4, bias=True)  \n",
    ")  \n",
    "Actor has input matching the Environment, and output matching the output space\n",
    "\n",
    "Critic(  \n",
    "  (fcs1): Linear(in_features=33, out_features=400, bias=True)  \n",
    "  (fc2): Linear(in_features=404, out_features=300, bias=True)  \n",
    "  (fc3): Linear(in_features=300, out_features=1, bias=True)  \n",
    ")  \n",
    "Critic has input matching the Environment, and one output giving the size of the continuous action.\n",
    "\n"
   ]
  },
  {
   "cell_type": "code",
   "execution_count": 17,
   "metadata": {},
   "outputs": [
    {
     "name": "stdout",
     "output_type": "stream",
     "text": [
      "Actor(\n",
      "  (fc1): Linear(in_features=33, out_features=400, bias=True)\n",
      "  (fc2): Linear(in_features=400, out_features=300, bias=True)\n",
      "  (fc3): Linear(in_features=300, out_features=4, bias=True)\n",
      ")\n",
      "Critic(\n",
      "  (fcs1): Linear(in_features=33, out_features=400, bias=True)\n",
      "  (fc2): Linear(in_features=404, out_features=300, bias=True)\n",
      "  (fc3): Linear(in_features=300, out_features=1, bias=True)\n",
      ")\n"
     ]
    }
   ],
   "source": [
    "# Import Agent and model\n",
    "from ddpg_agent import Agent\n",
    "\n",
    "# Hyperparameters for the agent parameters from example\n",
    "\n",
    "buffer_size = int(1e6) # replay buffer size\n",
    "batch_size = 64        # minibatch size\n",
    "gamma = 0.99           # discount factor\n",
    "tau = 1e-3             # for soft update of target parameters\n",
    "lr_actor = 1e-4        # learning rate of the actor\n",
    "lr_critic = 1e-3       # learning rate of the critic\n",
    "weight_decay = 1e-2    # L2 weight decay\n",
    "\n",
    "\n",
    "agent = Agent(state_size=33, \n",
    "              action_size=4,\n",
    "              num_agents = 20,\n",
    "              random_seed=2,\n",
    "              buffer_size = buffer_size,\n",
    "              batch_size = batch_size,\n",
    "              gamma = gamma,\n",
    "              tau = tau,\n",
    "              lr_actor = lr_actor,\n",
    "              lr_critic = lr_critic,\n",
    "              weight_decay = weight_decay\n",
    "             )\n",
    "\n",
    "print(agent.actor_local)\n",
    "print(agent.critic_local)"
   ]
  },
  {
   "cell_type": "code",
   "execution_count": 18,
   "metadata": {},
   "outputs": [
    {
     "name": "stdout",
     "output_type": "stream",
     "text": [
      "Episode 100\tAverage Score: 0.80\n",
      "Episode 200\tAverage Score: 1.37\n",
      "Episode 300\tAverage Score: 1.17\n",
      "Episode 400\tAverage Score: 0.98\n",
      "Episode 500\tAverage Score: 0.73\n",
      "Episode 600\tAverage Score: 0.96\n",
      "Episode 700\tAverage Score: 1.25\n",
      "Episode 800\tAverage Score: 0.92\n",
      "Episode 900\tAverage Score: 0.71\n",
      "Episode 1000\tAverage Score: 0.90\n"
     ]
    },
    {
     "data": {
      "image/png": "[encoded data removed]",
      "text/plain": [
       "<Figure size 432x288 with 1 Axes>"
      ]
     },
     "metadata": {
      "needs_background": "light"
     },
     "output_type": "display_data"
    }
   ],
   "source": [
    "scores = ddpg(agent, env_info, run=0)\n",
    "\n",
    "fig = plt.figure()\n",
    "ax = fig.add_subplot(111)\n",
    "plt.plot(np.arange(1, len(scores)+1), scores)\n",
    "plt.ylabel('Score')\n",
    "plt.xlabel('Episode #')\n",
    "plt.show()"
   ]
  },
  {
   "cell_type": "markdown",
   "metadata": {},
   "source": [
    "Below we try the hyperparameters suggested by the course example implementation"
   ]
  },
  {
   "cell_type": "code",
   "execution_count": 9,
   "metadata": {},
   "outputs": [],
   "source": [
    "# Import Agent and model\n",
    "from ddpg_agent import Agent\n",
    "\n",
    "# Hyperparameters for the agent parameters from example\n",
    "\n",
    "buffer_size = int(1e5) # replay buffer size\n",
    "batch_size = 128       # minibatch size\n",
    "gamma = 0.99           # discount factor\n",
    "tau = 1e-3             # for soft update of target parameters\n",
    "lr_actor = 1e-4        # learning rate of the actor\n",
    "lr_critic = 1e-3       # learning rate of the critic\n",
    "weight_decay = 0       # L2 weight decay\n",
    "\n",
    "\n",
    "agent = Agent(state_size=33, \n",
    "              action_size=4,\n",
    "              num_agents = 20,\n",
    "              random_seed=2,\n",
    "              buffer_size = buffer_size,\n",
    "              batch_size = batch_size,\n",
    "              gamma = gamma,\n",
    "              tau = tau,\n",
    "              lr_actor = lr_actor,\n",
    "              lr_critic = lr_critic,\n",
    "              weight_decay = weight_decay\n",
    "             )\n"
   ]
  },
  {
   "cell_type": "code",
   "execution_count": 10,
   "metadata": {},
   "outputs": [
    {
     "name": "stdout",
     "output_type": "stream",
     "text": [
      "Episode 100\tAverage Score: 16.41\n",
      "Episode 142\tAverage Score: 30.28\n",
      "Environment solved in 42 episodes!\tAverage Score: 30.28\n",
      "Episode 200\tAverage Score: 36.95\n",
      "Episode 300\tAverage Score: 36.86\n",
      "Episode 400\tAverage Score: 36.37\n",
      "Episode 500\tAverage Score: 35.34\n",
      "Episode 600\tAverage Score: 34.82\n",
      "Episode 700\tAverage Score: 35.42\n",
      "Episode 800\tAverage Score: 34.28\n",
      "Episode 900\tAverage Score: 34.73\n",
      "Episode 1000\tAverage Score: 33.87\n"
     ]
    },
    {
     "data": {
      "image/png": "[encoded data removed]",
      "text/plain": [
       "<Figure size 432x288 with 1 Axes>"
      ]
     },
     "metadata": {
      "needs_background": "light"
     },
     "output_type": "display_data"
    }
   ],
   "source": [
    "scores = ddpg(agent, env_info, run=1)\n",
    "\n",
    "fig = plt.figure()\n",
    "ax = fig.add_subplot(111)\n",
    "plt.plot(np.arange(1, len(scores)+1), scores)\n",
    "plt.ylabel('Score')\n",
    "plt.xlabel('Episode #')\n",
    "plt.show()"
   ]
  },
  {
   "cell_type": "code",
   "execution_count": 14,
   "metadata": {},
   "outputs": [
    {
     "name": "stdout",
     "output_type": "stream",
     "text": [
      "Score: 39.20199912376702\n",
      "Score: 38.609499137010424\n",
      "Score: 38.54399913847446\n"
     ]
    }
   ],
   "source": [
    "agent.actor_local.load_state_dict(torch.load('checkpoint_actor_1.pth'))\n",
    "agent.critic_local.load_state_dict(torch.load('checkpoint_critic_1.pth'))\n",
    "\n",
    "max_t = 1000\n",
    "\n",
    "\n",
    "for i in range(3):\n",
    "    scores = np.zeros(num_agents)\n",
    "    env_info = env.reset(train_mode=False)[brain_name] # reset the environment\n",
    "    state = env_info.vector_observations               # get the current state\n",
    "    agent.reset()\n",
    "    for t in range(max_t):\n",
    "        actions = agent.act(state,False)           # select an action\n",
    "        env_info = env.step(actions)[brain_name]    # send the action to the environment\n",
    "        next_state = env_info.vector_observations   # get the next state\n",
    "        reward = env_info.rewards                   # get the reward\n",
    "        done = env_info.local_done                  # see if episode has finished\n",
    "        agent.step(state, actions, reward, next_state, done)\n",
    "        state = next_state\n",
    "        scores += reward\n",
    "\n",
    "\n",
    "        if np.any(done):\n",
    "            break \n",
    "    print(\"Score: {}\".format(np.mean(scores)))"
   ]
  },
  {
   "cell_type": "markdown",
   "metadata": {},
   "source": [
    "### 4 Conclsion\n",
    "\n",
    "Learning were done using hyper parameters from the [Continuous control with deep reinforcement learning](https://arxiv.org/abs/1509.02971) paper, and using the hyper parameters from the course example code.\n",
    "\n",
    "The Paper uses a larger buffer, and smaller batches, and uses weight decay. using this hyper parameters the agent were unable to learn. using the parameters from the course example the network trains well and solves the problem un 42 rounds.\n",
    "\n",
    "The environment is considered solved, when the average (over 100 episodes) of those average scores is at least +30. In the case of the plot above, the environment was solved at episode 42, since the average of the average scores from episodes 42 to 142 (inclusive) was greater than +30."
   ]
  },
  {
   "cell_type": "markdown",
   "metadata": {},
   "source": [
    "### 5 Future Work\n",
    "\n",
    "- Try out other algorithms like \n",
    " - Trust Region Policy Optimization (TRPO)\n",
    " - Truncated Natural Policy Gradient (TNPG) \n",
    " - Proximal Policy Optimization (PPO)\n",
    " - Distributed Distributional Deterministic Policy Gradients (D4PG) \n",
    "- Finetune hyperparameters further"
   ]
  },
  {
   "cell_type": "code",
   "execution_count": null,
   "metadata": {},
   "outputs": [],
   "source": []
  }
 ],
 "metadata": {
  "kernelspec": {
   "display_name": "Python 3",
   "language": "python",
   "name": "python3"
  },
  "language_info": {
   "codemirror_mode": {
    "name": "ipython",
    "version": 3
   },
   "file_extension": ".py",
   "mimetype": "text/x-python",
   "name": "python",
   "nbconvert_exporter": "python",
   "pygments_lexer": "ipython3",
   "version": "3.6.10"
  }
 },
 "nbformat": 4,
 "nbformat_minor": 2
}
